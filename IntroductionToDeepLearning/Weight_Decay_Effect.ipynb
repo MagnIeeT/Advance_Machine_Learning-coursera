{
 "cells": [
  {
   "cell_type": "markdown",
   "metadata": {},
   "source": [
    "# Effect of Regularisation"
   ]
  },
  {
   "cell_type": "markdown",
   "metadata": {},
   "source": [
    "In this notebook we will try to see the effect of regularisation on networks. We will see how weight decay help us in avoiding overfiting."
   ]
  },
  {
   "cell_type": "code",
   "execution_count": 1,
   "metadata": {
    "collapsed": true
   },
   "outputs": [],
   "source": [
    "import sys\n",
    "sys.path.append(\"..\")\n",
    "import tqdm_utils\n",
    "import download_utils"
   ]
  },
  {
   "cell_type": "code",
   "execution_count": 2,
   "metadata": {
    "collapsed": true
   },
   "outputs": [],
   "source": [
    "# use the preloaded keras datasets and models\n",
    "download_utils.link_all_keras_resources()"
   ]
  },
  {
   "cell_type": "code",
   "execution_count": 3,
   "metadata": {
    "collapsed": true
   },
   "outputs": [],
   "source": [
    "from __future__ import print_function\n",
    "import numpy as np\n",
    "np.random.seed(42)"
   ]
  },
  {
   "cell_type": "markdown",
   "metadata": {},
   "source": [
    "## Creating a layer Class"
   ]
  },
  {
   "cell_type": "code",
   "execution_count": 4,
   "metadata": {
    "collapsed": true
   },
   "outputs": [],
   "source": [
    "class Layer:\n",
    "    \"\"\"\n",
    "    A building block. Each layer is capable of performing two things:\n",
    "    \n",
    "    - Process input to get output:           output = layer.forward(input)\n",
    "    \n",
    "    - Propagate gradients through itself:    grad_input = layer.backward(input, grad_output)\n",
    "    \n",
    "    Some layers also have learnable parameters which they update during layer.backward.\n",
    "    \"\"\"\n",
    "    def __init__(self):\n",
    "        \"\"\"Here you can initialize layer parameters (if any) and auxiliary stuff.\"\"\"\n",
    "        # A dummy layer does nothing\n",
    "        pass\n",
    "    \n",
    "    def forward(self, input):\n",
    "        \"\"\"\n",
    "        Takes input data of shape [batch, input_units], returns output data [batch, output_units]\n",
    "        \"\"\"\n",
    "        # A dummy layer just returns whatever it gets as input.\n",
    "        return input\n",
    "\n",
    "    def backward(self, input, grad_output):\n",
    "        \"\"\"\n",
    "        Performs a backpropagation step through the layer, with respect to the given input.\n",
    "        \n",
    "        To compute loss gradients w.r.t input, you need to apply chain rule (backprop):\n",
    "        \n",
    "        d loss / d x  = (d loss / d layer) * (d layer / d x)\n",
    "        \n",
    "        Luckily, you already receive d loss / d layer as input, so you only need to multiply it by d layer / d x.\n",
    "        \n",
    "        If your layer has parameters (e.g. dense layer), you also need to update them here using d loss / d layer\n",
    "        \"\"\"\n",
    "        # The gradient of a dummy layer is precisely grad_output, but we'll write it more explicitly\n",
    "        num_units = input.shape[1]\n",
    "        \n",
    "        d_layer_d_input = np.eye(num_units)\n",
    "        \n",
    "        return np.dot(grad_output, d_layer_d_input) # chain rule"
   ]
  },
  {
   "cell_type": "markdown",
   "metadata": {},
   "source": [
    "## ReLU Layer"
   ]
  },
  {
   "cell_type": "code",
   "execution_count": 5,
   "metadata": {
    "collapsed": true
   },
   "outputs": [],
   "source": [
    "class ReLU(Layer):\n",
    "    def __init__(self):\n",
    "        \"\"\"ReLU layer simply applies elementwise rectified linear unit to all inputs\"\"\"\n",
    "        pass\n",
    "    \n",
    "    def forward(self, input):\n",
    "        \"\"\"Apply elementwise ReLU to [batch, input_units] matrix\"\"\"\n",
    "        # <your code. Try np.maximum>\n",
    "        return np.maximum(input,0)\n",
    "    \n",
    "    def backward(self, input, grad_output):\n",
    "        \"\"\"Compute gradient of loss w.r.t. ReLU input\"\"\"\n",
    "        relu_grad = input > 0\n",
    "        return grad_output*relu_grad        "
   ]
  },
  {
   "cell_type": "markdown",
   "metadata": {},
   "source": [
    "## Modified Dense layer to include regularisation"
   ]
  },
  {
   "cell_type": "markdown",
   "metadata": {},
   "source": [
    "Implement a version of Dense layer with L2 regularization penalty: when updating Dense Layer weights, adjust gradients to minimize\n",
    "\n",
    "$$ Loss = Crossentropy + \\frac{1}{2}\\alpha \\cdot \\underset i \\sum {w_i}^2 $$"
   ]
  },
  {
   "cell_type": "markdown",
   "metadata": {},
   "source": [
    "This dense layer can be used to on and off the regularisation using **reg parameter**."
   ]
  },
  {
   "cell_type": "code",
   "execution_count": 21,
   "metadata": {
    "collapsed": true
   },
   "outputs": [],
   "source": [
    "class Dense(Layer):\n",
    "    def __init__(self, input_units, output_units, learning_rate=0.1,reg=None):\n",
    "        \"\"\"\n",
    "        A dense layer is a layer which performs a learned affine transformation:\n",
    "        f(x) = <W*x> + b\n",
    "        \"\"\"\n",
    "        self.learning_rate = learning_rate\n",
    "        \n",
    "        # initialize weights with small random numbers. We use normal initialization, \n",
    "        # but surely there is something better. Try this once you got it working: http://bit.ly/2vTlmaJ\n",
    "        self.weights = np.random.randn(input_units, output_units)*0.01\n",
    "        self.biases = np.zeros(output_units)\n",
    "        self.reg = reg #### Adding regularization\n",
    "        \n",
    "    def forward(self,input):\n",
    "        \"\"\"\n",
    "        Perform an affine transformation:\n",
    "        f(x) = <W*x> + b\n",
    "        \n",
    "        input shape: [batch, input_units]\n",
    "        output shape: [batch, output units]\n",
    "        \"\"\"\n",
    "        return input@self.weights + self.biases\n",
    "    \n",
    "    def backward(self,input,grad_output):\n",
    "        \n",
    "        # compute d f / d x = d f / d dense * d dense / d x\n",
    "        # where d dense/ d x = weights transposed\n",
    "        grad_input = grad_output@self.weights.T\n",
    "        \n",
    "        # compute gradient w.r.t. weights and biases\n",
    "        grad_weights = input.T@grad_output\n",
    "        grad_biases = np.sum(grad_output,axis=0)\n",
    "        \n",
    "        assert grad_weights.shape == self.weights.shape and grad_biases.shape == self.biases.shape\n",
    "        # Here we perform a stochastic gradient descent step. \n",
    "        # Later on, you can try replacing that with something better.\n",
    "        \n",
    "        if self.reg:\n",
    "            self.weights = self.weights - self.learning_rate * grad_weights - self.reg*self.weights\n",
    "            self.biases = self.biases - self.learning_rate * grad_biases\n",
    "        else:\n",
    "            self.weights = self.weights - self.learning_rate * grad_weights\n",
    "            self.biases = self.biases - self.learning_rate * grad_biases\n",
    "        \n",
    "        return grad_input"
   ]
  },
  {
   "cell_type": "markdown",
   "metadata": {},
   "source": [
    "## Crossentropy loss "
   ]
  },
  {
   "cell_type": "code",
   "execution_count": 7,
   "metadata": {
    "collapsed": true
   },
   "outputs": [],
   "source": [
    "def softmax_crossentropy_with_logits(logits,reference_answers):\n",
    "    \"\"\"Compute crossentropy from logits[batch,n_classes] and ids of correct answers\"\"\"\n",
    "    logits_for_answers = logits[np.arange(len(logits)),reference_answers]\n",
    "    \n",
    "    xentropy = - logits_for_answers + np.log(np.sum(np.exp(logits),axis=-1)) \n",
    "    \n",
    "    return xentropy\n",
    "\n",
    "def grad_softmax_crossentropy_with_logits(logits,reference_answers):\n",
    "    \"\"\"Compute crossentropy gradient from logits[batch,n_classes] and ids of correct answers\"\"\"\n",
    "    ones_for_answers = np.zeros_like(logits)\n",
    "    ones_for_answers[np.arange(len(logits)),reference_answers] = 1\n",
    "    \n",
    "    softmax = np.exp(logits) / np.exp(logits).sum(axis=-1,keepdims=True)\n",
    "    \n",
    "    return (- ones_for_answers + softmax) / logits.shape[0]"
   ]
  },
  {
   "cell_type": "markdown",
   "metadata": {},
   "source": [
    "## Data Visualisation"
   ]
  },
  {
   "cell_type": "code",
   "execution_count": 8,
   "metadata": {},
   "outputs": [
    {
     "name": "stderr",
     "output_type": "stream",
     "text": [
      "Using TensorFlow backend.\n"
     ]
    },
    {
     "data": {
      "image/png": "[encoded data removed]",
      "text/plain": [
       "<matplotlib.figure.Figure at 0x7fe0a48f56d8>"
      ]
     },
     "metadata": {},
     "output_type": "display_data"
    }
   ],
   "source": [
    "import matplotlib.pyplot as plt\n",
    "%matplotlib inline\n",
    "\n",
    "from preprocessed_mnist import load_dataset\n",
    "X_train, y_train, X_val, y_val, X_test, y_test = load_dataset(flatten=True)\n",
    "\n",
    "plt.figure(figsize=[6,6])\n",
    "for i in range(4):\n",
    "    plt.subplot(2,2,i+1)\n",
    "    plt.title(\"Label: %i\"%y_train[i])\n",
    "    plt.imshow(X_train[i].reshape([28,28]),cmap='gray');"
   ]
  },
  {
   "cell_type": "markdown",
   "metadata": {},
   "source": [
    "## Forward and Training functions"
   ]
  },
  {
   "cell_type": "code",
   "execution_count": 10,
   "metadata": {
    "collapsed": true
   },
   "outputs": [],
   "source": [
    "def forward(network, X):\n",
    "    \"\"\"\n",
    "    Compute activations of all network layers by applying them sequentially.\n",
    "    Return a list of activations for each layer. \n",
    "    Make sure last activation corresponds to network logits.\n",
    "    \"\"\"\n",
    "    activations = []\n",
    "    input = X\n",
    "\n",
    "    activations.append(network[0].forward(input))\n",
    "    activations.append(network[1].forward(activations[0]))\n",
    "    activations.append(network[2].forward(activations[1]))\n",
    "    activations.append(network[3].forward(activations[2]))\n",
    "    activations.append(network[4].forward(activations[3]))\n",
    "        \n",
    "    assert len(activations) == len(network)\n",
    "    return activations\n",
    "\n",
    "def predict(network,X):\n",
    "    \"\"\"\n",
    "    Compute network predictions.\n",
    "    \"\"\"\n",
    "    logits = forward(network,X)[-1]\n",
    "    return logits.argmax(axis=-1)\n",
    "\n",
    "def train(network,X,y,reg=None):\n",
    "    \"\"\"\n",
    "    Train your network on a given batch of X and y.\n",
    "    You first need to run forward to get all layer activations.\n",
    "    Then you can run layer.backward going from last to first layer.\n",
    "    \n",
    "    After you called backward for all layers, all Dense layers have already made one gradient step.\n",
    "    \"\"\"\n",
    "    \n",
    "    # Get the layer activations\n",
    "    layer_activations = forward(network,X)\n",
    "    layer_inputs = [X]+layer_activations  #layer_input[i] is an input for network[i]\n",
    "    logits = layer_activations[-1]\n",
    "    \n",
    "    # Compute the loss and the initial gradient\n",
    "    if reg:                                     ######## if regularisation is active####\n",
    "        weights = 0\n",
    "        for i in range(0,len(network),2):\n",
    "            weights += np.sum(np.square(network[i].weights))\n",
    "        loss = softmax_crossentropy_with_logits(logits,y)  + reg*weights*(0.5)\n",
    "        loss_grad = grad_softmax_crossentropy_with_logits(logits,y)      \n",
    "    else:\n",
    "        loss = softmax_crossentropy_with_logits(logits,y)  \n",
    "        loss_grad = grad_softmax_crossentropy_with_logits(logits,y)\n",
    "    \n",
    "    # <your code: propagate gradients through the network>\n",
    "    grad_input = loss_grad\n",
    "    for i in range(-1,-6,-1):\n",
    "        grad_input = network[i].backward(layer_inputs[i-1], grad_input)\n",
    "    return np.mean(loss)"
   ]
  },
  {
   "cell_type": "markdown",
   "metadata": {},
   "source": [
    "## Generating Minibatches"
   ]
  },
  {
   "cell_type": "code",
   "execution_count": 11,
   "metadata": {
    "collapsed": true
   },
   "outputs": [],
   "source": [
    "def iterate_minibatches(inputs, targets, batchsize, shuffle=False):\n",
    "    assert len(inputs) == len(targets)\n",
    "    if shuffle:\n",
    "        indices = np.random.permutation(len(inputs))\n",
    "    for start_idx in tqdm_utils.tqdm_notebook_failsafe(range(0, len(inputs) - batchsize + 1, batchsize)):\n",
    "        if shuffle:\n",
    "            excerpt = indices[start_idx:start_idx + batchsize]\n",
    "        else:\n",
    "            excerpt = slice(start_idx, start_idx + batchsize)\n",
    "        yield inputs[excerpt], targets[excerpt]"
   ]
  },
  {
   "cell_type": "markdown",
   "metadata": {},
   "source": [
    "## Network without Regularisation"
   ]
  },
  {
   "cell_type": "code",
   "execution_count": 16,
   "metadata": {
    "collapsed": true
   },
   "outputs": [],
   "source": [
    "network = []\n",
    "network.append(Dense(X_train.shape[1],100))\n",
    "network.append(ReLU())\n",
    "network.append(Dense(100,200))\n",
    "network.append(ReLU())\n",
    "network.append(Dense(200,10))"
   ]
  },
  {
   "cell_type": "code",
   "execution_count": 17,
   "metadata": {
    "collapsed": true
   },
   "outputs": [],
   "source": [
    "from IPython.display import clear_output\n",
    "train_log = []\n",
    "val_log = []"
   ]
  },
  {
   "cell_type": "code",
   "execution_count": 18,
   "metadata": {},
   "outputs": [
    {
     "name": "stdout",
     "output_type": "stream",
     "text": [
      "Epoch 24\n",
      "Train accuracy: 1.0\n",
      "Val accuracy: 0.9794\n"
     ]
    },
    {
     "data": {
      "image/png": "[encoded data removed]",
      "text/plain": [
       "<matplotlib.figure.Figure at 0x7fe0609eb710>"
      ]
     },
     "metadata": {},
     "output_type": "display_data"
    }
   ],
   "source": [
    "for epoch in range(25):\n",
    "\n",
    "    for x_batch,y_batch in iterate_minibatches(X_train,y_train,batchsize=32,shuffle=True):\n",
    "        train(network,x_batch,y_batch)\n",
    "    \n",
    "    train_log.append(np.mean(predict(network,X_train)==y_train))\n",
    "    val_log.append(np.mean(predict(network,X_val)==y_val))\n",
    "    \n",
    "    clear_output()\n",
    "    print(\"Epoch\",epoch)\n",
    "    print(\"Train accuracy:\",train_log[-1])\n",
    "    print(\"Val accuracy:\",val_log[-1])\n",
    "    plt.plot(train_log,label='train accuracy')\n",
    "    plt.plot(val_log,label='val accuracy')\n",
    "    plt.legend(loc='best')\n",
    "    plt.grid()\n",
    "    plt.show()\n",
    "    "
   ]
  },
  {
   "cell_type": "markdown",
   "metadata": {},
   "source": [
    "We can see without regularisation there is are **large difference** between training and validation accuracy."
   ]
  },
  {
   "cell_type": "markdown",
   "metadata": {},
   "source": [
    "## Training with regularisation"
   ]
  },
  {
   "cell_type": "code",
   "execution_count": 40,
   "metadata": {
    "collapsed": true
   },
   "outputs": [],
   "source": [
    "reg =0.0005"
   ]
  },
  {
   "cell_type": "code",
   "execution_count": 41,
   "metadata": {
    "collapsed": true
   },
   "outputs": [],
   "source": [
    "network_reg = []\n",
    "network_reg.append(Dense(X_train.shape[1],100,reg=reg))\n",
    "network_reg.append(ReLU())\n",
    "network_reg.append(Dense(100,200,reg=reg))\n",
    "network_reg.append(ReLU())\n",
    "network_reg.append(Dense(200,10,reg=reg))"
   ]
  },
  {
   "cell_type": "code",
   "execution_count": 42,
   "metadata": {
    "collapsed": true
   },
   "outputs": [],
   "source": [
    "from IPython.display import clear_output\n",
    "train_log = []\n",
    "val_log = []"
   ]
  },
  {
   "cell_type": "code",
   "execution_count": 45,
   "metadata": {},
   "outputs": [
    {
     "name": "stdout",
     "output_type": "stream",
     "text": [
      "Epoch 9\n",
      "Train accuracy: 0.96868\n",
      "Val accuracy: 0.9672\n"
     ]
    },
    {
     "data": {
      "image/png": "[encoded data removed]",
      "text/plain": [
       "<matplotlib.figure.Figure at 0x7fe060a47048>"
      ]
     },
     "metadata": {},
     "output_type": "display_data"
    }
   ],
   "source": [
    "for epoch in range(10): ## change it to 40 for full graph, I just trained if for 10 more iterations after 30\n",
    "\n",
    "    for x_batch,y_batch in iterate_minibatches(X_train,y_train,batchsize=32,shuffle=True):\n",
    "        train(network_reg,x_batch,y_batch,reg=reg)\n",
    "    \n",
    "    train_log.append(np.mean(predict(network_reg,X_train)==y_train))\n",
    "    val_log.append(np.mean(predict(network_reg,X_val)==y_val))\n",
    "    \n",
    "    clear_output()\n",
    "    print(\"Epoch\",epoch)\n",
    "    print(\"Train accuracy:\",train_log[-1])\n",
    "    print(\"Val accuracy:\",val_log[-1])\n",
    "    plt.plot(train_log,label='train accuracy')\n",
    "    plt.plot(val_log,label='val accuracy')\n",
    "    plt.legend(loc='best')\n",
    "    plt.grid()\n",
    "    plt.show()\n",
    "    "
   ]
  },
  {
   "cell_type": "markdown",
   "metadata": {},
   "source": [
    "With regularisation we can see validation accuracy is following training accuracy. That clearly indicate we have **avoided overfitting.**"
   ]
  }
 ],
 "metadata": {
  "kernelspec": {
   "display_name": "Python 3",
   "language": "python",
   "name": "python3"
  },
  "language_info": {
   "codemirror_mode": {
    "name": "ipython",
    "version": 3
   },
   "file_extension": ".py",
   "mimetype": "text/x-python",
   "name": "python",
   "nbconvert_exporter": "python",
   "pygments_lexer": "ipython3",
   "version": "3.6.0"
  },
  "widgets": {
   "state": {
    "0031f7477bee482c903fee7d89a33273": {
     "views": [
      {
       "cell_index": 16
      }
     ]
    },
    "023d66c1c04b4e5ca27ef6a54116b2b7": {
     "views": [
      {
       "cell_index": 19
      }
     ]
    },
    "02814211db78434aafb2b8f51a1c920b": {
     "views": [
      {
       "cell_index": 19
      }
     ]
    },
    "042ae241172b42458aa172efadafc50d": {
     "views": [
      {
       "cell_index": 19
      }
     ]
    },
    "047185f014ca43fe8c3c3bfbb05406ad": {
     "views": [
      {
       "cell_index": 16
      }
     ]
    },
    "04b67d42ebda498988930cd0e55656f7": {
     "views": [
      {
       "cell_index": 19
      }
     ]
    },
    "05df348200794c7aa9d5a97801b57913": {
     "views": [
      {
       "cell_index": 16
      }
     ]
    },
    "075c902d91834e778395a18a24fbfea8": {
     "views": [
      {
       "cell_index": 19
      }
     ]
    },
    "0b5f987ec22e4cdb9e38ecfdd33f9f05": {
     "views": [
      {
       "cell_index": 16
      }
     ]
    },
    "0ca2924689c846e5a897cd8a37cf1697": {
     "views": [
      {
       "cell_index": 20
      }
     ]
    },
    "11a8f7214f0c49be8d9d5ff27e7227fa": {
     "views": [
      {
       "cell_index": 16
      }
     ]
    },
    "17ee2a3912d1470d9842a0381cdfdf2c": {
     "views": [
      {
       "cell_index": 20
      }
     ]
    },
    "187b477d1255452ab6ba060ff0ce16e1": {
     "views": [
      {
       "cell_index": 15
      }
     ]
    },
    "1a3f782f4c834726b1cf4ec6e1ee34c2": {
     "views": [
      {
       "cell_index": 20
      }
     ]
    },
    "1c599b75ea8a4e458caf38997c2eeea0": {
     "views": [
      {
       "cell_index": 16
      }
     ]
    },
    "1e79be4a4a2145479c40947a3d66c735": {
     "views": [
      {
       "cell_index": 20
      }
     ]
    },
    "200e9aa0fde34a5c8c05d394b748ee2a": {
     "views": [
      {
       "cell_index": 16
      }
     ]
    },
    "24e4ffa200e2419186e6dfa222db3568": {
     "views": [
      {
       "cell_index": 19
      }
     ]
    },
    "268693ed504b450d8513c176c0da0dc3": {
     "views": [
      {
       "cell_index": 15
      }
     ]
    },
    "278334f962d44d46acc3bc4b7f68338b": {
     "views": [
      {
       "cell_index": 19
      }
     ]
    },
    "29934ad315c244a5b80ada0bf5d60ce0": {
     "views": [
      {
       "cell_index": 16
      }
     ]
    },
    "2aaedc7d59e74738b90032aa203af95f": {
     "views": [
      {
       "cell_index": 20
      }
     ]
    },
    "2b3ea6f1fb81440f88116ddd83b41de2": {
     "views": [
      {
       "cell_index": 15
      }
     ]
    },
    "2bbfb271a46d4ba990c32b3add667107": {
     "views": [
      {
       "cell_index": 19
      }
     ]
    },
    "2d893f4d20964b729e6b64dbe3b63403": {
     "views": [
      {
       "cell_index": 16
      }
     ]
    },
    "2dc02311c521408a921b0f7167d94988": {
     "views": [
      {
       "cell_index": 16
      }
     ]
    },
    "2ea5001cb8094ef1a445e0aeb01df402": {
     "views": [
      {
       "cell_index": 20
      }
     ]
    },
    "30781284d04c4e6e936b51e40ead21d2": {
     "views": [
      {
       "cell_index": 16
      }
     ]
    },
    "309ab9abecba4d059a91a4c5a8004bc4": {
     "views": [
      {
       "cell_index": 19
      }
     ]
    },
    "347d7c489d0c4eb3a220cd16600c332a": {
     "views": [
      {
       "cell_index": 16
      }
     ]
    },
    "35ba8d602c474bcaa32e2ae5328d5eaf": {
     "views": [
      {
       "cell_index": 16
      }
     ]
    },
    "3656456b57fa4e9ba90bc215f8d1ed4d": {
     "views": [
      {
       "cell_index": 19
      }
     ]
    },
    "36b38747eb8f43f49877e8c4c55145d0": {
     "views": [
      {
       "cell_index": 19
      }
     ]
    },
    "3ac33b434e214e70a970d37c8cadf414": {
     "views": [
      {
       "cell_index": 16
      }
     ]
    },
    "3e5122c02a6146cbab8cd96496e03925": {
     "views": [
      {
       "cell_index": 20
      }
     ]
    },
    "416a1614f20f46a7b84bdbc636b84085": {
     "views": [
      {
       "cell_index": 16
      }
     ]
    },
    "445bf812a5b14d01b96a5b381d266940": {
     "views": [
      {
       "cell_index": 20
      }
     ]
    },
    "486f084ca3b04f799e5f8b37407c00b3": {
     "views": [
      {
       "cell_index": 16
      }
     ]
    },
    "49892a5598754323b20ee9a6df4c55f1": {
     "views": [
      {
       "cell_index": 20
      }
     ]
    },
    "4a4f53b86dd44492bdf42d6f051dd2c0": {
     "views": [
      {
       "cell_index": 20
      }
     ]
    },
    "4f5fdd75ccc84c7798792098e4bb3396": {
     "views": [
      {
       "cell_index": 16
      }
     ]
    },
    "50e1d86fbb974ed791dab46220f0c675": {
     "views": [
      {
       "cell_index": 16
      }
     ]
    },
    "52deddd03fdb4c64999c1a3690582c23": {
     "views": [
      {
       "cell_index": 16
      }
     ]
    },
    "57ed3620f90e49978763e99d6e059a34": {
     "views": [
      {
       "cell_index": 16
      }
     ]
    },
    "59e1d8f7bcfc447ebd6b45feeb64726d": {
     "views": [
      {
       "cell_index": 19
      }
     ]
    },
    "5dcaa6c02b98402189e0332714750721": {
     "views": [
      {
       "cell_index": 19
      }
     ]
    },
    "5e73211caf464634ad12056019ec60de": {
     "views": [
      {
       "cell_index": 20
      }
     ]
    },
    "5f160ffd8d8947bd9743051e6dd91731": {
     "views": [
      {
       "cell_index": 16
      }
     ]
    },
    "6170bc6b11cf404098dfd9bd6d91260f": {
     "views": [
      {
       "cell_index": 20
      }
     ]
    },
    "63c664630c464179a798bb078c830f25": {
     "views": [
      {
       "cell_index": 20
      }
     ]
    },
    "66b4f3049d9e43ae96be90072aa70b49": {
     "views": [
      {
       "cell_index": 20
      }
     ]
    },
    "6e47a361eefa4f9da20d1ba788b1bd72": {
     "views": [
      {
       "cell_index": 16
      }
     ]
    },
    "6e497dd992f844cc9fc8d6ce7f16c073": {
     "views": [
      {
       "cell_index": 16
      }
     ]
    },
    "6ef3635330da4dbe9bd59b32ed4211f6": {
     "views": [
      {
       "cell_index": 16
      }
     ]
    },
    "714ea8ebfa254a16b0db77e89eab6b3b": {
     "views": [
      {
       "cell_index": 19
      }
     ]
    },
    "72b8ddd8169e4c80bed6bf786cffa2f8": {
     "views": [
      {
       "cell_index": 16
      }
     ]
    },
    "72bee6d3164c4aee8c42675ace5a63d5": {
     "views": [
      {
       "cell_index": 20
      }
     ]
    },
    "72e85ab6aac048038f243e5b86623ae0": {
     "views": [
      {
       "cell_index": 16
      }
     ]
    },
    "742fedcb21814a3fb46a52cd6750c271": {
     "views": [
      {
       "cell_index": 15
      }
     ]
    },
    "74ceb4b4208f472eb8c7b2bba302f659": {
     "views": [
      {
       "cell_index": 16
      }
     ]
    },
    "752517cf61df49aea7cdede119a83bd5": {
     "views": [
      {
       "cell_index": 16
      }
     ]
    },
    "755e53e2e0bf4d738572aa652338c562": {
     "views": [
      {
       "cell_index": 20
      }
     ]
    },
    "7af7376d56d34d0dbd751cdd30a96647": {
     "views": [
      {
       "cell_index": 20
      }
     ]
    },
    "7e981dac5d6141a1a74da5693a000450": {
     "views": [
      {
       "cell_index": 20
      }
     ]
    },
    "8052d8330ff047559718f5f910047857": {
     "views": [
      {
       "cell_index": 15
      }
     ]
    },
    "825448664a0041828c9f2dc809b0b7ae": {
     "views": [
      {
       "cell_index": 20
      }
     ]
    },
    "82b7d23855484566858eced5fb795f67": {
     "views": [
      {
       "cell_index": 19
      }
     ]
    },
    "8600e261d9244c54890bdaa6b4427305": {
     "views": [
      {
       "cell_index": 15
      }
     ]
    },
    "8a8779d689dc461182ecebd1329f4ad1": {
     "views": [
      {
       "cell_index": 19
      }
     ]
    },
    "8d717cc69df64d949493c626f27987d1": {
     "views": [
      {
       "cell_index": 19
      }
     ]
    },
    "900b31ab47c54d99b69ec7c85751e17b": {
     "views": [
      {
       "cell_index": 15
      }
     ]
    },
    "9090eedb52d146f29087e2a80a350bb1": {
     "views": [
      {
       "cell_index": 16
      }
     ]
    },
    "90f8af47a59e416099bc646e1ab4473b": {
     "views": [
      {
       "cell_index": 16
      }
     ]
    },
    "90fdae991b054d28b10a52ec1ea5c199": {
     "views": [
      {
       "cell_index": 20
      }
     ]
    },
    "91a6b84b0914465daed3dc34777db5d8": {
     "views": [
      {
       "cell_index": 16
      }
     ]
    },
    "91d3013b884e4feb82d6aa001bc91fc7": {
     "views": [
      {
       "cell_index": 16
      }
     ]
    },
    "9381906c01de409f85d449cdffdc5584": {
     "views": [
      {
       "cell_index": 16
      }
     ]
    },
    "976817949bac42c383ebaa9bd3a3d73b": {
     "views": [
      {
       "cell_index": 16
      }
     ]
    },
    "9b5dc45372ec4fdcaee7faa2e50a371b": {
     "views": [
      {
       "cell_index": 15
      }
     ]
    },
    "9bd660bc5abf4cb49f598e1d84cb1129": {
     "views": [
      {
       "cell_index": 19
      }
     ]
    },
    "9d10b4a37d6649c0a0758e977727fb9e": {
     "views": [
      {
       "cell_index": 16
      }
     ]
    },
    "9ee08ef3b215468899987ea3e439743a": {
     "views": [
      {
       "cell_index": 16
      }
     ]
    },
    "a22f8b22a53f43608d28fd1fb3ffffe0": {
     "views": [
      {
       "cell_index": 15
      }
     ]
    },
    "a6f5f8a5d289415fab086314e8cc55cc": {
     "views": [
      {
       "cell_index": 19
      }
     ]
    },
    "a747905fe9c849739c6961a9ea7bc9fe": {
     "views": [
      {
       "cell_index": 16
      }
     ]
    },
    "acd28bf0cf324439a60169df0b96a217": {
     "views": [
      {
       "cell_index": 20
      }
     ]
    },
    "b5582e97453749a0b2f21c7391f5ba4b": {
     "views": [
      {
       "cell_index": 20
      }
     ]
    },
    "bbb25946011348c3aa756c10f9b1799a": {
     "views": [
      {
       "cell_index": 15
      }
     ]
    },
    "bdab286f67694c2da7d36b38c5c5e69a": {
     "views": [
      {
       "cell_index": 20
      }
     ]
    },
    "bf347684cd3e4ed4aa528f0ab003e998": {
     "views": [
      {
       "cell_index": 20
      }
     ]
    },
    "c1d78d5fde8142d09802e4f52b8a6485": {
     "views": [
      {
       "cell_index": 20
      }
     ]
    },
    "c32c2d6696014313aa9081e2e2f4f4a0": {
     "views": [
      {
       "cell_index": 19
      }
     ]
    },
    "c450cf8fbe6345b6ae876fcb3a7c084c": {
     "views": [
      {
       "cell_index": 16
      }
     ]
    },
    "c4a33d14c65a40168c85863274ce2ed6": {
     "views": [
      {
       "cell_index": 16
      }
     ]
    },
    "ca5e6b9543b745049b679e0bc5aedcbb": {
     "views": [
      {
       "cell_index": 16
      }
     ]
    },
    "cd316d7fc8234513bc84f27fe3f45c4d": {
     "views": [
      {
       "cell_index": 20
      }
     ]
    },
    "cd977d2d25244de685c3abe4c3f75429": {
     "views": [
      {
       "cell_index": 20
      }
     ]
    },
    "cf33352ecbc347c1aede31a08e049812": {
     "views": [
      {
       "cell_index": 20
      }
     ]
    },
    "d8ec724323ed4ab8bcaebae4e46b08d4": {
     "views": [
      {
       "cell_index": 16
      }
     ]
    },
    "e0094e9132f44e0685b1d99ab1e0a20c": {
     "views": [
      {
       "cell_index": 19
      }
     ]
    },
    "e3b443ba1e5b40cab87a3d4a7b98a27f": {
     "views": [
      {
       "cell_index": 16
      }
     ]
    },
    "e93361a005e441e4a57f1b261e5d1b16": {
     "views": [
      {
       "cell_index": 15
      }
     ]
    },
    "edc07bdd0c94488095ddf04f5e3a360f": {
     "views": [
      {
       "cell_index": 19
      }
     ]
    },
    "f23661da50114e00832edf17988ab6e5": {
     "views": [
      {
       "cell_index": 19
      }
     ]
    },
    "f25911e8464f4eb28c054bb973153a62": {
     "views": [
      {
       "cell_index": 20
      }
     ]
    },
    "f687d761e94b415ea69079483849be0f": {
     "views": [
      {
       "cell_index": 19
      }
     ]
    },
    "f6989e4cebbb4ebf81a78295c9bee251": {
     "views": [
      {
       "cell_index": 20
      }
     ]
    },
    "fc9f08ff0c5d428c88b234ec73c6bf7e": {
     "views": [
      {
       "cell_index": 15
      }
     ]
    },
    "fe51a803a2bd4a0aaaf1566156a9d795": {
     "views": [
      {
       "cell_index": 20
      }
     ]
    }
   },
   "version": "1.2.0"
  }
 },
 "nbformat": 4,
 "nbformat_minor": 2
}
